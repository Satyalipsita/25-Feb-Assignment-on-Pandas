{
  "metadata": {
    "language_info": {
      "codemirror_mode": {
        "name": "python",
        "version": 3
      },
      "file_extension": ".py",
      "mimetype": "text/x-python",
      "name": "python",
      "nbconvert_exporter": "python",
      "pygments_lexer": "ipython3",
      "version": "3.8"
    },
    "kernelspec": {
      "name": "python",
      "display_name": "Python (Pyodide)",
      "language": "python"
    }
  },
  "nbformat_minor": 4,
  "nbformat": 4,
  "cells": [
    {
      "cell_type": "code",
      "source": "import pandas as pd\nimport numpy as np\ncolumns=['column_1','column_2','column_3','column_4','column_5','column_6']\nindices=[1,2,3,4,5,6]\ndf1=pd.DataFrame(np.random.rand(6,6),columns=columns,index=indices)",
      "metadata": {
        "trusted": true
      },
      "execution_count": 1,
      "outputs": []
    },
    {
      "cell_type": "code",
      "source": "df1",
      "metadata": {
        "trusted": true
      },
      "execution_count": 2,
      "outputs": [
        {
          "execution_count": 2,
          "output_type": "execute_result",
          "data": {
            "text/plain": "   column_1  column_2  column_3  column_4  column_5  column_6\n1  0.583013  0.962863  0.426589  0.199438  0.509030  0.033261\n2  0.912206  0.183983  0.135219  0.969601  0.909143  0.707162\n3  0.589640  0.576567  0.124217  0.396189  0.899255  0.636627\n4  0.270937  0.886571  0.326147  0.295179  0.687762  0.202347\n5  0.318254  0.841635  0.074165  0.852987  0.791325  0.108765\n6  0.733068  0.824740  0.764103  0.975528  0.500788  0.188360",
            "text/html": "<div>\n<style scoped>\n    .dataframe tbody tr th:only-of-type {\n        vertical-align: middle;\n    }\n\n    .dataframe tbody tr th {\n        vertical-align: top;\n    }\n\n    .dataframe thead th {\n        text-align: right;\n    }\n</style>\n<table border=\"1\" class=\"dataframe\">\n  <thead>\n    <tr style=\"text-align: right;\">\n      <th></th>\n      <th>column_1</th>\n      <th>column_2</th>\n      <th>column_3</th>\n      <th>column_4</th>\n      <th>column_5</th>\n      <th>column_6</th>\n    </tr>\n  </thead>\n  <tbody>\n    <tr>\n      <th>1</th>\n      <td>0.583013</td>\n      <td>0.962863</td>\n      <td>0.426589</td>\n      <td>0.199438</td>\n      <td>0.509030</td>\n      <td>0.033261</td>\n    </tr>\n    <tr>\n      <th>2</th>\n      <td>0.912206</td>\n      <td>0.183983</td>\n      <td>0.135219</td>\n      <td>0.969601</td>\n      <td>0.909143</td>\n      <td>0.707162</td>\n    </tr>\n    <tr>\n      <th>3</th>\n      <td>0.589640</td>\n      <td>0.576567</td>\n      <td>0.124217</td>\n      <td>0.396189</td>\n      <td>0.899255</td>\n      <td>0.636627</td>\n    </tr>\n    <tr>\n      <th>4</th>\n      <td>0.270937</td>\n      <td>0.886571</td>\n      <td>0.326147</td>\n      <td>0.295179</td>\n      <td>0.687762</td>\n      <td>0.202347</td>\n    </tr>\n    <tr>\n      <th>5</th>\n      <td>0.318254</td>\n      <td>0.841635</td>\n      <td>0.074165</td>\n      <td>0.852987</td>\n      <td>0.791325</td>\n      <td>0.108765</td>\n    </tr>\n    <tr>\n      <th>6</th>\n      <td>0.733068</td>\n      <td>0.824740</td>\n      <td>0.764103</td>\n      <td>0.975528</td>\n      <td>0.500788</td>\n      <td>0.188360</td>\n    </tr>\n  </tbody>\n</table>\n</div>"
          },
          "metadata": {}
        }
      ]
    },
    {
      "cell_type": "code",
      "source": "df1",
      "metadata": {
        "trusted": true
      },
      "execution_count": 9,
      "outputs": [
        {
          "execution_count": 9,
          "output_type": "execute_result",
          "data": {
            "text/plain": "          column_1  column_2  column_3  column_4  column_5  column_6\n1         0.583013  0.962863  0.426589  0.199438   0.50903  0.033261\n2         0.912206  0.183983  0.135219  0.969601  0.909143  0.707162\n3          0.58964  0.576567  0.124217  0.396189  0.899255  0.636627\n4         0.270937  0.886571  0.326147  0.295179  0.687762  0.202347\n5         0.318254  0.841635  0.074165  0.852987  0.791325  0.108765\n6         0.733068   0.82474  0.764103  0.975528  0.500788   0.18836\ncolumn_2     satya     satya     satya     satya     satya     satya",
            "text/html": "<div>\n<style scoped>\n    .dataframe tbody tr th:only-of-type {\n        vertical-align: middle;\n    }\n\n    .dataframe tbody tr th {\n        vertical-align: top;\n    }\n\n    .dataframe thead th {\n        text-align: right;\n    }\n</style>\n<table border=\"1\" class=\"dataframe\">\n  <thead>\n    <tr style=\"text-align: right;\">\n      <th></th>\n      <th>column_1</th>\n      <th>column_2</th>\n      <th>column_3</th>\n      <th>column_4</th>\n      <th>column_5</th>\n      <th>column_6</th>\n    </tr>\n  </thead>\n  <tbody>\n    <tr>\n      <th>1</th>\n      <td>0.583013</td>\n      <td>0.962863</td>\n      <td>0.426589</td>\n      <td>0.199438</td>\n      <td>0.50903</td>\n      <td>0.033261</td>\n    </tr>\n    <tr>\n      <th>2</th>\n      <td>0.912206</td>\n      <td>0.183983</td>\n      <td>0.135219</td>\n      <td>0.969601</td>\n      <td>0.909143</td>\n      <td>0.707162</td>\n    </tr>\n    <tr>\n      <th>3</th>\n      <td>0.58964</td>\n      <td>0.576567</td>\n      <td>0.124217</td>\n      <td>0.396189</td>\n      <td>0.899255</td>\n      <td>0.636627</td>\n    </tr>\n    <tr>\n      <th>4</th>\n      <td>0.270937</td>\n      <td>0.886571</td>\n      <td>0.326147</td>\n      <td>0.295179</td>\n      <td>0.687762</td>\n      <td>0.202347</td>\n    </tr>\n    <tr>\n      <th>5</th>\n      <td>0.318254</td>\n      <td>0.841635</td>\n      <td>0.074165</td>\n      <td>0.852987</td>\n      <td>0.791325</td>\n      <td>0.108765</td>\n    </tr>\n    <tr>\n      <th>6</th>\n      <td>0.733068</td>\n      <td>0.82474</td>\n      <td>0.764103</td>\n      <td>0.975528</td>\n      <td>0.500788</td>\n      <td>0.18836</td>\n    </tr>\n    <tr>\n      <th>column_2</th>\n      <td>satya</td>\n      <td>satya</td>\n      <td>satya</td>\n      <td>satya</td>\n      <td>satya</td>\n      <td>satya</td>\n    </tr>\n  </tbody>\n</table>\n</div>"
          },
          "metadata": {}
        }
      ]
    },
    {
      "cell_type": "code",
      "source": "df1['column_2'].replace(['0.183983'], 'Satya')",
      "metadata": {},
      "execution_count": null,
      "outputs": []
    }
  ]
}