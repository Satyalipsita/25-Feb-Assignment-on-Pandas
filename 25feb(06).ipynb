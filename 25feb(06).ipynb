{
  "metadata": {
    "language_info": {
      "codemirror_mode": {
        "name": "python",
        "version": 3
      },
      "file_extension": ".py",
      "mimetype": "text/x-python",
      "name": "python",
      "nbconvert_exporter": "python",
      "pygments_lexer": "ipython3",
      "version": "3.8"
    },
    "kernelspec": {
      "name": "python",
      "display_name": "Python (Pyodide)",
      "language": "python"
    }
  },
  "nbformat_minor": 4,
  "nbformat": 4,
  "cells": [
    {
      "cell_type": "code",
      "source": "#Q-06: \nWindow function is a popular technique used to analyze a subset with related values\nit prvides to roll out data for certain calculations on decided window size.\n\nThere are three main types of window functions available to use: aggregate, ranking, and value functions",
      "metadata": {},
      "execution_count": null,
      "outputs": []
    }
  ]
}