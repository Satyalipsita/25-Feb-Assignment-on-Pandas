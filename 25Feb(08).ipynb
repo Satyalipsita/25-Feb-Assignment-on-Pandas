{
  "metadata": {
    "language_info": {
      "codemirror_mode": {
        "name": "python",
        "version": 3
      },
      "file_extension": ".py",
      "mimetype": "text/x-python",
      "name": "python",
      "nbconvert_exporter": "python",
      "pygments_lexer": "ipython3",
      "version": "3.8"
    },
    "kernelspec": {
      "name": "python",
      "display_name": "Python (Pyodide)",
      "language": "python"
    }
  },
  "nbformat_minor": 4,
  "nbformat": 4,
  "cells": [
    {
      "cell_type": "code",
      "source": "import pandas as pd\nimport datetime\ndf = data = {'order_date': ['2021-11-23 04:11:00', '2021-11-23 04:11:00'], 'despatch_date':['2011-23 13:11:00,'021-11-23 09:11:00'}\ndf['order_date'] = pd.to_datetime(df['order_date'], errors='coerce')\ndf['despatch_date'] = pd.to_datetime(df['despatch_date'], errors='coerce')\ndf['handling_time'] =(df['despatch_date'] - df['order_date']).dt.total_seconds() # total timeinseconds\ndf['handling_time'] =(df['despatch_date'] - df['order_date']).dt.total_seconds()/60 # total tome in minute\ndf['handling_time'] =(df['despatch_date'] - df['order_date']).dt.total_seconds()/60/60 # total in hours                                                                                         \n                                                                               ",
      "metadata": {},
      "execution_count": null,
      "outputs": []
    }
  ]
}