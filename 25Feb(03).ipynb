{
  "metadata": {
    "language_info": {
      "codemirror_mode": {
        "name": "python",
        "version": 3
      },
      "file_extension": ".py",
      "mimetype": "text/x-python",
      "name": "python",
      "nbconvert_exporter": "python",
      "pygments_lexer": "ipython3",
      "version": "3.8"
    },
    "kernelspec": {
      "name": "python",
      "display_name": "Python (Pyodide)",
      "language": "python"
    }
  },
  "nbformat_minor": 4,
  "nbformat": 4,
  "cells": [
    {
      "cell_type": "code",
      "source": "import pandas as pd\nimport numpy as np\ncolumns=['column_1','column_2','column_3','column_4','column_5','column_6']\nindices=[1,2,3,4,5,6]\ndf1=pd.DataFrame(np.random.rand(6,6),columns=columns,index=indices)",
      "metadata": {
        "trusted": true
      },
      "execution_count": 1,
      "outputs": []
    },
    {
      "cell_type": "code",
      "source": "df1",
      "metadata": {
        "trusted": true
      },
      "execution_count": 2,
      "outputs": [
        {
          "execution_count": 2,
          "output_type": "execute_result",
          "data": {
            "text/plain": "   column_1  column_2  column_3  column_4  column_5  column_6\n1  0.518619  0.606590  0.851959  0.289718  0.693688  0.573702\n2  0.639938  0.744327  0.171886  0.784758  0.184159  0.183548\n3  0.068064  0.348380  0.482725  0.776206  0.156386  0.288662\n4  0.502560  0.851229  0.196925  0.848837  0.975785  0.764593\n5  0.736800  0.416403  0.783686  0.942049  0.706687  0.418495\n6  0.320174  0.229250  0.878641  0.150756  0.486786  0.426888",
            "text/html": "<div>\n<style scoped>\n    .dataframe tbody tr th:only-of-type {\n        vertical-align: middle;\n    }\n\n    .dataframe tbody tr th {\n        vertical-align: top;\n    }\n\n    .dataframe thead th {\n        text-align: right;\n    }\n</style>\n<table border=\"1\" class=\"dataframe\">\n  <thead>\n    <tr style=\"text-align: right;\">\n      <th></th>\n      <th>column_1</th>\n      <th>column_2</th>\n      <th>column_3</th>\n      <th>column_4</th>\n      <th>column_5</th>\n      <th>column_6</th>\n    </tr>\n  </thead>\n  <tbody>\n    <tr>\n      <th>1</th>\n      <td>0.518619</td>\n      <td>0.606590</td>\n      <td>0.851959</td>\n      <td>0.289718</td>\n      <td>0.693688</td>\n      <td>0.573702</td>\n    </tr>\n    <tr>\n      <th>2</th>\n      <td>0.639938</td>\n      <td>0.744327</td>\n      <td>0.171886</td>\n      <td>0.784758</td>\n      <td>0.184159</td>\n      <td>0.183548</td>\n    </tr>\n    <tr>\n      <th>3</th>\n      <td>0.068064</td>\n      <td>0.348380</td>\n      <td>0.482725</td>\n      <td>0.776206</td>\n      <td>0.156386</td>\n      <td>0.288662</td>\n    </tr>\n    <tr>\n      <th>4</th>\n      <td>0.502560</td>\n      <td>0.851229</td>\n      <td>0.196925</td>\n      <td>0.848837</td>\n      <td>0.975785</td>\n      <td>0.764593</td>\n    </tr>\n    <tr>\n      <th>5</th>\n      <td>0.736800</td>\n      <td>0.416403</td>\n      <td>0.783686</td>\n      <td>0.942049</td>\n      <td>0.706687</td>\n      <td>0.418495</td>\n    </tr>\n    <tr>\n      <th>6</th>\n      <td>0.320174</td>\n      <td>0.229250</td>\n      <td>0.878641</td>\n      <td>0.150756</td>\n      <td>0.486786</td>\n      <td>0.426888</td>\n    </tr>\n  </tbody>\n</table>\n</div>"
          },
          "metadata": {}
        }
      ]
    },
    {
      "cell_type": "code",
      "source": "new_index =[3,0,1,2]\ndf2=df1.reindex(new_index)\ndf2",
      "metadata": {
        "trusted": true
      },
      "execution_count": 6,
      "outputs": [
        {
          "execution_count": 6,
          "output_type": "execute_result",
          "data": {
            "text/plain": "   column_1  column_2  column_3  column_4  column_5  column_6\n3  0.068064  0.348380  0.482725  0.776206  0.156386  0.288662\n0       NaN       NaN       NaN       NaN       NaN       NaN\n1  0.518619  0.606590  0.851959  0.289718  0.693688  0.573702\n2  0.639938  0.744327  0.171886  0.784758  0.184159  0.183548",
            "text/html": "<div>\n<style scoped>\n    .dataframe tbody tr th:only-of-type {\n        vertical-align: middle;\n    }\n\n    .dataframe tbody tr th {\n        vertical-align: top;\n    }\n\n    .dataframe thead th {\n        text-align: right;\n    }\n</style>\n<table border=\"1\" class=\"dataframe\">\n  <thead>\n    <tr style=\"text-align: right;\">\n      <th></th>\n      <th>column_1</th>\n      <th>column_2</th>\n      <th>column_3</th>\n      <th>column_4</th>\n      <th>column_5</th>\n      <th>column_6</th>\n    </tr>\n  </thead>\n  <tbody>\n    <tr>\n      <th>3</th>\n      <td>0.068064</td>\n      <td>0.348380</td>\n      <td>0.482725</td>\n      <td>0.776206</td>\n      <td>0.156386</td>\n      <td>0.288662</td>\n    </tr>\n    <tr>\n      <th>0</th>\n      <td>NaN</td>\n      <td>NaN</td>\n      <td>NaN</td>\n      <td>NaN</td>\n      <td>NaN</td>\n      <td>NaN</td>\n    </tr>\n    <tr>\n      <th>1</th>\n      <td>0.518619</td>\n      <td>0.606590</td>\n      <td>0.851959</td>\n      <td>0.289718</td>\n      <td>0.693688</td>\n      <td>0.573702</td>\n    </tr>\n    <tr>\n      <th>2</th>\n      <td>0.639938</td>\n      <td>0.744327</td>\n      <td>0.171886</td>\n      <td>0.784758</td>\n      <td>0.184159</td>\n      <td>0.183548</td>\n    </tr>\n  </tbody>\n</table>\n</div>"
          },
          "metadata": {}
        }
      ]
    },
    {
      "cell_type": "code",
      "source": "print(df2.iloc[[2]])",
      "metadata": {
        "trusted": true
      },
      "execution_count": 8,
      "outputs": [
        {
          "name": "stdout",
          "text": "   column_1  column_2  column_3  column_4  column_5  column_6\n1  0.518619   0.60659  0.851959  0.289718  0.693688  0.573702\n",
          "output_type": "stream"
        }
      ]
    },
    {
      "cell_type": "code",
      "source": "print(df2.loc[[2]])",
      "metadata": {
        "trusted": true
      },
      "execution_count": 9,
      "outputs": [
        {
          "name": "stdout",
          "text": "   column_1  column_2  column_3  column_4  column_5  column_6\n2  0.639938  0.744327  0.171886  0.784758  0.184159  0.183548\n",
          "output_type": "stream"
        }
      ]
    },
    {
      "cell_type": "code",
      "source": "",
      "metadata": {},
      "execution_count": null,
      "outputs": []
    }
  ]
}