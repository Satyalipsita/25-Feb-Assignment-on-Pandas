{
  "metadata": {
    "language_info": {
      "codemirror_mode": {
        "name": "python",
        "version": 3
      },
      "file_extension": ".py",
      "mimetype": "text/x-python",
      "name": "python",
      "nbconvert_exporter": "python",
      "pygments_lexer": "ipython3",
      "version": "3.8"
    },
    "kernelspec": {
      "name": "python",
      "display_name": "Python (Pyodide)",
      "language": "python"
    }
  },
  "nbformat_minor": 4,
  "nbformat": 4,
  "cells": [
    {
      "cell_type": "code",
      "source": "import pandas as pd\nimport datetime\n\n# set the timestamp in Pandas\ntimestamp = pd.Timestamp(datetime.datetime(2021, 10, 10))\n\n# display the Timestamp\nprint(\"Timestamp: \", timestamp)\n\n# display the day from given timestamp\nprint(\"Day Name:\", timestamp.day_name())\n\n# getting the current date and time\nres = timestamp.today()\n\n# display the current date and time\nprint(\"\\nToday's Date and time...\\n\", res)\n\n# display the current day\nprint(\"Today's Day:\", res.day_name())",
      "metadata": {
        "trusted": true
      },
      "execution_count": 1,
      "outputs": [
        {
          "name": "stdout",
          "text": "Timestamp:  2021-10-10 00:00:00\nDay Name: Sunday\n\nToday's Date and time...\n 2023-03-05 23:22:10.848000\nToday's Day: Sunday\n",
          "output_type": "stream"
        }
      ]
    },
    {
      "cell_type": "code",
      "source": "",
      "metadata": {},
      "execution_count": null,
      "outputs": []
    },
    {
      "cell_type": "code",
      "source": "",
      "metadata": {},
      "execution_count": null,
      "outputs": []
    }
  ]
}