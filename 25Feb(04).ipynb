{
  "metadata": {
    "language_info": {
      "codemirror_mode": {
        "name": "python",
        "version": 3
      },
      "file_extension": ".py",
      "mimetype": "text/x-python",
      "name": "python",
      "nbconvert_exporter": "python",
      "pygments_lexer": "ipython3",
      "version": "3.8"
    },
    "kernelspec": {
      "name": "python",
      "display_name": "Python (Pyodide)",
      "language": "python"
    }
  },
  "nbformat_minor": 4,
  "nbformat": 4,
  "cells": [
    {
      "cell_type": "code",
      "source": "import pandas as pd\nimport numpy as np\ncolumns=['column_1','column_2','column_3','column_4','column_5','column_6']\nindices=[1,2,3,4,5,6]\ndf1=pd.DataFrame(np.random.rand(6,6),columns=columns,index=indices)",
      "metadata": {
        "trusted": true
      },
      "execution_count": 1,
      "outputs": []
    },
    {
      "cell_type": "code",
      "source": "",
      "metadata": {
        "trusted": true
      },
      "execution_count": 2,
      "outputs": [
        {
          "execution_count": 2,
          "output_type": "execute_result",
          "data": {
            "text/plain": "   column_1  column_2  column_3  column_4  column_5  column_6\n1  0.328105  0.816089  0.746573  0.793562  0.332112  0.544862\n2  0.165022  0.936672  0.731262  0.337502  0.040805  0.672476\n3  0.321189  0.669998  0.200020  0.498869  0.561961  0.352205\n4  0.379059  0.604782  0.630274  0.779921  0.414943  0.068105\n5  0.869497  0.909872  0.711581  0.647763  0.224780  0.869601\n6  0.064578  0.237485  0.456479  0.189042  0.152750  0.183253",
            "text/html": "<div>\n<style scoped>\n    .dataframe tbody tr th:only-of-type {\n        vertical-align: middle;\n    }\n\n    .dataframe tbody tr th {\n        vertical-align: top;\n    }\n\n    .dataframe thead th {\n        text-align: right;\n    }\n</style>\n<table border=\"1\" class=\"dataframe\">\n  <thead>\n    <tr style=\"text-align: right;\">\n      <th></th>\n      <th>column_1</th>\n      <th>column_2</th>\n      <th>column_3</th>\n      <th>column_4</th>\n      <th>column_5</th>\n      <th>column_6</th>\n    </tr>\n  </thead>\n  <tbody>\n    <tr>\n      <th>1</th>\n      <td>0.328105</td>\n      <td>0.816089</td>\n      <td>0.746573</td>\n      <td>0.793562</td>\n      <td>0.332112</td>\n      <td>0.544862</td>\n    </tr>\n    <tr>\n      <th>2</th>\n      <td>0.165022</td>\n      <td>0.936672</td>\n      <td>0.731262</td>\n      <td>0.337502</td>\n      <td>0.040805</td>\n      <td>0.672476</td>\n    </tr>\n    <tr>\n      <th>3</th>\n      <td>0.321189</td>\n      <td>0.669998</td>\n      <td>0.200020</td>\n      <td>0.498869</td>\n      <td>0.561961</td>\n      <td>0.352205</td>\n    </tr>\n    <tr>\n      <th>4</th>\n      <td>0.379059</td>\n      <td>0.604782</td>\n      <td>0.630274</td>\n      <td>0.779921</td>\n      <td>0.414943</td>\n      <td>0.068105</td>\n    </tr>\n    <tr>\n      <th>5</th>\n      <td>0.869497</td>\n      <td>0.909872</td>\n      <td>0.711581</td>\n      <td>0.647763</td>\n      <td>0.224780</td>\n      <td>0.869601</td>\n    </tr>\n    <tr>\n      <th>6</th>\n      <td>0.064578</td>\n      <td>0.237485</td>\n      <td>0.456479</td>\n      <td>0.189042</td>\n      <td>0.152750</td>\n      <td>0.183253</td>\n    </tr>\n  </tbody>\n</table>\n</div>"
          },
          "metadata": {}
        }
      ]
    },
    {
      "cell_type": "code",
      "source": "df1[[\"column_1\",\"column_2\",\"column_3\",\"column_4\",\"column_5\",\"column_6\"]].mean()",
      "metadata": {
        "trusted": true
      },
      "execution_count": 6,
      "outputs": [
        {
          "execution_count": 6,
          "output_type": "execute_result",
          "data": {
            "text/plain": "column_1    0.354575\ncolumn_2    0.695816\ncolumn_3    0.579365\ncolumn_4    0.541110\ncolumn_5    0.287892\ncolumn_6    0.448417\ndtype: float64"
          },
          "metadata": {}
        }
      ]
    },
    {
      "cell_type": "code",
      "source": "df1[[\"column_2\"]].std()",
      "metadata": {
        "trusted": true
      },
      "execution_count": 8,
      "outputs": [
        {
          "execution_count": 8,
          "output_type": "execute_result",
          "data": {
            "text/plain": "column_2    0.259738\ndtype: float64"
          },
          "metadata": {}
        }
      ]
    },
    {
      "cell_type": "code",
      "source": "",
      "metadata": {},
      "execution_count": null,
      "outputs": []
    }
  ]
}