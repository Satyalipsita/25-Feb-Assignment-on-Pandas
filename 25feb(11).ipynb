{
  "metadata": {
    "language_info": {
      "codemirror_mode": {
        "name": "python",
        "version": 3
      },
      "file_extension": ".py",
      "mimetype": "text/x-python",
      "name": "python",
      "nbconvert_exporter": "python",
      "pygments_lexer": "ipython3",
      "version": "3.8"
    },
    "kernelspec": {
      "name": "python",
      "display_name": "Python (Pyodide)",
      "language": "python"
    }
  },
  "nbformat_minor": 4,
  "nbformat": 4,
  "cells": [
    {
      "cell_type": "code",
      "source": "import pandas as pd\ndf=pd.read_csv(\"amazonsales.csv\")\ndf",
      "metadata": {
        "trusted": true
      },
      "execution_count": 1,
      "outputs": [
        {
          "execution_count": 1,
          "output_type": "execute_result",
          "data": {
            "text/plain": "                               Region                Country        Item Type  \\\n0               Australia and Oceania                 Tuvalu        Baby Food   \n1   Central America and the Caribbean                Grenada           Cereal   \n2                              Europe                 Russia  Office Supplies   \n3                  Sub-Saharan Africa  Sao Tome and Principe           Fruits   \n4                  Sub-Saharan Africa                 Rwanda  Office Supplies   \n..                                ...                    ...              ...   \n95                 Sub-Saharan Africa                   Mali          Clothes   \n96                               Asia               Malaysia           Fruits   \n97                 Sub-Saharan Africa           Sierra Leone       Vegetables   \n98                      North America                 Mexico    Personal Care   \n99                 Sub-Saharan Africa             Mozambique        Household   \n\n   Sales Channel Order Priority  Order Date   Order ID   Ship Date  \\\n0        Offline              H  05-28-2010  669165933   6/27/2010   \n1         Online              C  08-22-2012  963881480   9/15/2012   \n2        Offline              L  05-02-2014  341417157  05-08-2014   \n3         Online              C  06-20-2014  514321792  07-05-2014   \n4        Offline              L  02-01-2013  115456712  02-06-2013   \n..           ...            ...         ...        ...         ...   \n95        Online              M  07-26-2011  512878119  09-03-2011   \n96       Offline              L  11-11-2011  810711038  12/28/2011   \n97       Offline              C  06-01-2016  728815257   6/29/2016   \n98       Offline              M  07-30-2015  559427106  08-08-2015   \n99       Offline              L  02-10-2012  665095412   2/15/2012   \n\n    Units Sold  Unit Price  Unit Cost  Total Revenue  Total Cost  Total Profit  \n0         9925      255.28     159.42     2533654.00  1582243.50     951410.50  \n1         2804      205.70     117.11      576782.80   328376.44     248406.36  \n2         1779      651.21     524.96     1158502.59   933903.84     224598.75  \n3         8102        9.33       6.92       75591.66    56065.84      19525.82  \n4         5062      651.21     524.96     3296425.02  2657347.52     639077.50  \n..         ...         ...        ...            ...         ...           ...  \n95         888      109.28      35.84       97040.64    31825.92      65214.72  \n96        6267        9.33       6.92       58471.11    43367.64      15103.47  \n97        1485      154.06      90.93      228779.10   135031.05      93748.05  \n98        5767       81.73      56.67      471336.91   326815.89     144521.02  \n99        5367      668.27     502.54     3586605.09  2697132.18     889472.91  \n\n[100 rows x 14 columns]",
            "text/html": "<div>\n<style scoped>\n    .dataframe tbody tr th:only-of-type {\n        vertical-align: middle;\n    }\n\n    .dataframe tbody tr th {\n        vertical-align: top;\n    }\n\n    .dataframe thead th {\n        text-align: right;\n    }\n</style>\n<table border=\"1\" class=\"dataframe\">\n  <thead>\n    <tr style=\"text-align: right;\">\n      <th></th>\n      <th>Region</th>\n      <th>Country</th>\n      <th>Item Type</th>\n      <th>Sales Channel</th>\n      <th>Order Priority</th>\n      <th>Order Date</th>\n      <th>Order ID</th>\n      <th>Ship Date</th>\n      <th>Units Sold</th>\n      <th>Unit Price</th>\n      <th>Unit Cost</th>\n      <th>Total Revenue</th>\n      <th>Total Cost</th>\n      <th>Total Profit</th>\n    </tr>\n  </thead>\n  <tbody>\n    <tr>\n      <th>0</th>\n      <td>Australia and Oceania</td>\n      <td>Tuvalu</td>\n      <td>Baby Food</td>\n      <td>Offline</td>\n      <td>H</td>\n      <td>05-28-2010</td>\n      <td>669165933</td>\n      <td>6/27/2010</td>\n      <td>9925</td>\n      <td>255.28</td>\n      <td>159.42</td>\n      <td>2533654.00</td>\n      <td>1582243.50</td>\n      <td>951410.50</td>\n    </tr>\n    <tr>\n      <th>1</th>\n      <td>Central America and the Caribbean</td>\n      <td>Grenada</td>\n      <td>Cereal</td>\n      <td>Online</td>\n      <td>C</td>\n      <td>08-22-2012</td>\n      <td>963881480</td>\n      <td>9/15/2012</td>\n      <td>2804</td>\n      <td>205.70</td>\n      <td>117.11</td>\n      <td>576782.80</td>\n      <td>328376.44</td>\n      <td>248406.36</td>\n    </tr>\n    <tr>\n      <th>2</th>\n      <td>Europe</td>\n      <td>Russia</td>\n      <td>Office Supplies</td>\n      <td>Offline</td>\n      <td>L</td>\n      <td>05-02-2014</td>\n      <td>341417157</td>\n      <td>05-08-2014</td>\n      <td>1779</td>\n      <td>651.21</td>\n      <td>524.96</td>\n      <td>1158502.59</td>\n      <td>933903.84</td>\n      <td>224598.75</td>\n    </tr>\n    <tr>\n      <th>3</th>\n      <td>Sub-Saharan Africa</td>\n      <td>Sao Tome and Principe</td>\n      <td>Fruits</td>\n      <td>Online</td>\n      <td>C</td>\n      <td>06-20-2014</td>\n      <td>514321792</td>\n      <td>07-05-2014</td>\n      <td>8102</td>\n      <td>9.33</td>\n      <td>6.92</td>\n      <td>75591.66</td>\n      <td>56065.84</td>\n      <td>19525.82</td>\n    </tr>\n    <tr>\n      <th>4</th>\n      <td>Sub-Saharan Africa</td>\n      <td>Rwanda</td>\n      <td>Office Supplies</td>\n      <td>Offline</td>\n      <td>L</td>\n      <td>02-01-2013</td>\n      <td>115456712</td>\n      <td>02-06-2013</td>\n      <td>5062</td>\n      <td>651.21</td>\n      <td>524.96</td>\n      <td>3296425.02</td>\n      <td>2657347.52</td>\n      <td>639077.50</td>\n    </tr>\n    <tr>\n      <th>...</th>\n      <td>...</td>\n      <td>...</td>\n      <td>...</td>\n      <td>...</td>\n      <td>...</td>\n      <td>...</td>\n      <td>...</td>\n      <td>...</td>\n      <td>...</td>\n      <td>...</td>\n      <td>...</td>\n      <td>...</td>\n      <td>...</td>\n      <td>...</td>\n    </tr>\n    <tr>\n      <th>95</th>\n      <td>Sub-Saharan Africa</td>\n      <td>Mali</td>\n      <td>Clothes</td>\n      <td>Online</td>\n      <td>M</td>\n      <td>07-26-2011</td>\n      <td>512878119</td>\n      <td>09-03-2011</td>\n      <td>888</td>\n      <td>109.28</td>\n      <td>35.84</td>\n      <td>97040.64</td>\n      <td>31825.92</td>\n      <td>65214.72</td>\n    </tr>\n    <tr>\n      <th>96</th>\n      <td>Asia</td>\n      <td>Malaysia</td>\n      <td>Fruits</td>\n      <td>Offline</td>\n      <td>L</td>\n      <td>11-11-2011</td>\n      <td>810711038</td>\n      <td>12/28/2011</td>\n      <td>6267</td>\n      <td>9.33</td>\n      <td>6.92</td>\n      <td>58471.11</td>\n      <td>43367.64</td>\n      <td>15103.47</td>\n    </tr>\n    <tr>\n      <th>97</th>\n      <td>Sub-Saharan Africa</td>\n      <td>Sierra Leone</td>\n      <td>Vegetables</td>\n      <td>Offline</td>\n      <td>C</td>\n      <td>06-01-2016</td>\n      <td>728815257</td>\n      <td>6/29/2016</td>\n      <td>1485</td>\n      <td>154.06</td>\n      <td>90.93</td>\n      <td>228779.10</td>\n      <td>135031.05</td>\n      <td>93748.05</td>\n    </tr>\n    <tr>\n      <th>98</th>\n      <td>North America</td>\n      <td>Mexico</td>\n      <td>Personal Care</td>\n      <td>Offline</td>\n      <td>M</td>\n      <td>07-30-2015</td>\n      <td>559427106</td>\n      <td>08-08-2015</td>\n      <td>5767</td>\n      <td>81.73</td>\n      <td>56.67</td>\n      <td>471336.91</td>\n      <td>326815.89</td>\n      <td>144521.02</td>\n    </tr>\n    <tr>\n      <th>99</th>\n      <td>Sub-Saharan Africa</td>\n      <td>Mozambique</td>\n      <td>Household</td>\n      <td>Offline</td>\n      <td>L</td>\n      <td>02-10-2012</td>\n      <td>665095412</td>\n      <td>2/15/2012</td>\n      <td>5367</td>\n      <td>668.27</td>\n      <td>502.54</td>\n      <td>3586605.09</td>\n      <td>2697132.18</td>\n      <td>889472.91</td>\n    </tr>\n  </tbody>\n</table>\n<p>100 rows × 14 columns</p>\n</div>"
          },
          "metadata": {}
        }
      ]
    },
    {
      "cell_type": "code",
      "source": "df.head()",
      "metadata": {
        "trusted": true
      },
      "execution_count": 2,
      "outputs": [
        {
          "execution_count": 2,
          "output_type": "execute_result",
          "data": {
            "text/plain": "                              Region                Country        Item Type  \\\n0              Australia and Oceania                 Tuvalu        Baby Food   \n1  Central America and the Caribbean                Grenada           Cereal   \n2                             Europe                 Russia  Office Supplies   \n3                 Sub-Saharan Africa  Sao Tome and Principe           Fruits   \n4                 Sub-Saharan Africa                 Rwanda  Office Supplies   \n\n  Sales Channel Order Priority  Order Date   Order ID   Ship Date  Units Sold  \\\n0       Offline              H  05-28-2010  669165933   6/27/2010        9925   \n1        Online              C  08-22-2012  963881480   9/15/2012        2804   \n2       Offline              L  05-02-2014  341417157  05-08-2014        1779   \n3        Online              C  06-20-2014  514321792  07-05-2014        8102   \n4       Offline              L  02-01-2013  115456712  02-06-2013        5062   \n\n   Unit Price  Unit Cost  Total Revenue  Total Cost  Total Profit  \n0      255.28     159.42     2533654.00  1582243.50     951410.50  \n1      205.70     117.11      576782.80   328376.44     248406.36  \n2      651.21     524.96     1158502.59   933903.84     224598.75  \n3        9.33       6.92       75591.66    56065.84      19525.82  \n4      651.21     524.96     3296425.02  2657347.52     639077.50  ",
            "text/html": "<div>\n<style scoped>\n    .dataframe tbody tr th:only-of-type {\n        vertical-align: middle;\n    }\n\n    .dataframe tbody tr th {\n        vertical-align: top;\n    }\n\n    .dataframe thead th {\n        text-align: right;\n    }\n</style>\n<table border=\"1\" class=\"dataframe\">\n  <thead>\n    <tr style=\"text-align: right;\">\n      <th></th>\n      <th>Region</th>\n      <th>Country</th>\n      <th>Item Type</th>\n      <th>Sales Channel</th>\n      <th>Order Priority</th>\n      <th>Order Date</th>\n      <th>Order ID</th>\n      <th>Ship Date</th>\n      <th>Units Sold</th>\n      <th>Unit Price</th>\n      <th>Unit Cost</th>\n      <th>Total Revenue</th>\n      <th>Total Cost</th>\n      <th>Total Profit</th>\n    </tr>\n  </thead>\n  <tbody>\n    <tr>\n      <th>0</th>\n      <td>Australia and Oceania</td>\n      <td>Tuvalu</td>\n      <td>Baby Food</td>\n      <td>Offline</td>\n      <td>H</td>\n      <td>05-28-2010</td>\n      <td>669165933</td>\n      <td>6/27/2010</td>\n      <td>9925</td>\n      <td>255.28</td>\n      <td>159.42</td>\n      <td>2533654.00</td>\n      <td>1582243.50</td>\n      <td>951410.50</td>\n    </tr>\n    <tr>\n      <th>1</th>\n      <td>Central America and the Caribbean</td>\n      <td>Grenada</td>\n      <td>Cereal</td>\n      <td>Online</td>\n      <td>C</td>\n      <td>08-22-2012</td>\n      <td>963881480</td>\n      <td>9/15/2012</td>\n      <td>2804</td>\n      <td>205.70</td>\n      <td>117.11</td>\n      <td>576782.80</td>\n      <td>328376.44</td>\n      <td>248406.36</td>\n    </tr>\n    <tr>\n      <th>2</th>\n      <td>Europe</td>\n      <td>Russia</td>\n      <td>Office Supplies</td>\n      <td>Offline</td>\n      <td>L</td>\n      <td>05-02-2014</td>\n      <td>341417157</td>\n      <td>05-08-2014</td>\n      <td>1779</td>\n      <td>651.21</td>\n      <td>524.96</td>\n      <td>1158502.59</td>\n      <td>933903.84</td>\n      <td>224598.75</td>\n    </tr>\n    <tr>\n      <th>3</th>\n      <td>Sub-Saharan Africa</td>\n      <td>Sao Tome and Principe</td>\n      <td>Fruits</td>\n      <td>Online</td>\n      <td>C</td>\n      <td>06-20-2014</td>\n      <td>514321792</td>\n      <td>07-05-2014</td>\n      <td>8102</td>\n      <td>9.33</td>\n      <td>6.92</td>\n      <td>75591.66</td>\n      <td>56065.84</td>\n      <td>19525.82</td>\n    </tr>\n    <tr>\n      <th>4</th>\n      <td>Sub-Saharan Africa</td>\n      <td>Rwanda</td>\n      <td>Office Supplies</td>\n      <td>Offline</td>\n      <td>L</td>\n      <td>02-01-2013</td>\n      <td>115456712</td>\n      <td>02-06-2013</td>\n      <td>5062</td>\n      <td>651.21</td>\n      <td>524.96</td>\n      <td>3296425.02</td>\n      <td>2657347.52</td>\n      <td>639077.50</td>\n    </tr>\n  </tbody>\n</table>\n</div>"
          },
          "metadata": {}
        }
      ]
    },
    {
      "cell_type": "code",
      "source": "df['Units Sold'].mean()",
      "metadata": {
        "trusted": true
      },
      "execution_count": 4,
      "outputs": [
        {
          "execution_count": 4,
          "output_type": "execute_result",
          "data": {
            "text/plain": "5128.71"
          },
          "metadata": {}
        }
      ]
    },
    {
      "cell_type": "code",
      "source": "df['Units Sold'].median()",
      "metadata": {
        "trusted": true
      },
      "execution_count": 5,
      "outputs": [
        {
          "execution_count": 5,
          "output_type": "execute_result",
          "data": {
            "text/plain": "5382.5"
          },
          "metadata": {}
        }
      ]
    },
    {
      "cell_type": "code",
      "source": "df['Units Sold'].mode()",
      "metadata": {
        "trusted": true
      },
      "execution_count": 6,
      "outputs": [
        {
          "execution_count": 6,
          "output_type": "execute_result",
          "data": {
            "text/plain": "0    8656\nName: Units Sold, dtype: int64"
          },
          "metadata": {}
        }
      ]
    },
    {
      "cell_type": "code",
      "source": "",
      "metadata": {},
      "execution_count": null,
      "outputs": []
    }
  ]
}